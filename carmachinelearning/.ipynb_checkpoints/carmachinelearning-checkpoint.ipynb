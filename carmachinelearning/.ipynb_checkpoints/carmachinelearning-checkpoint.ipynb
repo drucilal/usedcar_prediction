{
 "cells": [
  {
   "cell_type": "code",
   "execution_count": null,
   "metadata": {},
   "outputs": [],
   "source": [
    "# Loading libraries required and reading dataset into python\n",
    "import pandas as pd\n",
    "pd.set_option('display.max_rows', 500)\n",
    "pd.set_option('display.max_columns', 500)\n",
    "pd.set_option('display.width', 1000)\n",
    "import numpy as np\n",
    "import seaborn as sns\n",
    "import matplotlib.pyplot as plt\n",
    "%matplotlib inline\n",
    "import warnings\n",
    "warnings.filterwarnings('ignore')\n",
    "import plotly\n",
    "import plotly.offline as py\n",
    "from plotly.offline import iplot, init_notebook_mode\n",
    "plotly.offline.init_notebook_mode(connected=True) \n",
    "import plotly.graph_objs as go\n",
    "import plotly.express as px\n",
    "py.init_notebook_mode(connected = True) # Required to use plotly offline in jupyter notebook\n",
    "from scipy.stats import skew\n",
    "from scipy import stats\n",
    "from scipy.stats.stats import pearsonr\n",
    "\n",
    "from scipy.stats import norm"
   ]
  },
  {
   "cell_type": "code",
   "execution_count": null,
   "metadata": {},
   "outputs": [],
   "source": [
    "# Reading in dataset\n",
    "df = pd.read_csv('used_cars.csv',encoding = 'latin-1')\n",
    "df.head()"
   ]
  },
  {
   "cell_type": "code",
   "execution_count": null,
   "metadata": {},
   "outputs": [],
   "source": [
    "df = df.drop(['vin'],axis = 1)"
   ]
  },
  {
   "cell_type": "code",
   "execution_count": null,
   "metadata": {},
   "outputs": [],
   "source": [
    "df['color'].fillna('unkown',inplace = True)\n",
    "df['condition'].fillna('unknown',inplace = True)\n",
    "df['cylinders'].fillna('unknown',inplace = True)\n",
    "df['transmission'].fillna('unknown',inplace = True)\n",
    "df['type'].fillna('unknown',inplace = True)\n",
    "df['size'].fillna('unknown',inplace = True)\n",
    "df['title'].fillna('unknown',inplace = True)\n",
    "df['make'].fillna('unknown',inplace = True)\n",
    "df['drive'].fillna('unknown',inplace = True)\n",
    "df['price'] = df['price'].fillna(0)\n",
    "df['price'] = df.price.astype(int)"
   ]
  },
  {
   "cell_type": "code",
   "execution_count": null,
   "metadata": {},
   "outputs": [],
   "source": [
    "new_df = df[df['price'] >= 1000]\n",
    "price_df = new_df[new_df['price'] <= 200000]\n",
    "rec_df = price_df[price_df['odometer'] > 10000 ]\n",
    "#rec_df = sec_df[sec_df['odometer'] <=  ]\n",
    "rec_df.shape"
   ]
  },
  {
   "cell_type": "code",
   "execution_count": null,
   "metadata": {},
   "outputs": [],
   "source": [
    "rec_df['odometer'].describe()"
   ]
  },
  {
   "cell_type": "code",
   "execution_count": null,
   "metadata": {},
   "outputs": [],
   "source": [
    "missing = rec_df.isna().sum()\n",
    "missing = missing[missing>0]\n",
    "missing_percent = missing/rec_df.shape[0] * 100\n",
    "df_missing = pd.DataFrame([missing, missing_percent], index = ['total', 'missing percent']).T\n",
    "df_missing.sort_values(['missing percent'], ascending = [False])"
   ]
  },
  {
   "cell_type": "code",
   "execution_count": null,
   "metadata": {},
   "outputs": [],
   "source": [
    "rec_df = rec_df.dropna()\n",
    "rec_df.shape"
   ]
  },
  {
   "cell_type": "code",
   "execution_count": null,
   "metadata": {},
   "outputs": [],
   "source": [
    "rec_df.dtypes"
   ]
  },
  {
   "cell_type": "code",
   "execution_count": null,
   "metadata": {},
   "outputs": [],
   "source": [
    "rec_df['odometer'] = rec_df.odometer.astype(int)\n",
    "rec_df['year'] = rec_df.year.astype(object)"
   ]
  },
  {
   "cell_type": "code",
   "execution_count": null,
   "metadata": {},
   "outputs": [],
   "source": [
    "categori = ['object']\n",
    "categorical = rec_df.select_dtypes(include= categori)"
   ]
  },
  {
   "cell_type": "code",
   "execution_count": null,
   "metadata": {},
   "outputs": [],
   "source": [
    "rec_df.head()"
   ]
  },
  {
   "cell_type": "code",
   "execution_count": null,
   "metadata": {},
   "outputs": [],
   "source": [
    "rec_df = rec_df.applymap(lambda s:s.lower() if type(s) == str else s)"
   ]
  },
  {
   "cell_type": "code",
   "execution_count": null,
   "metadata": {},
   "outputs": [],
   "source": [
    "#histogram of SalePrice to see the distribution \n",
    "fig, (ax1, ax2) = plt.subplots(1,2,figsize=(14,4))\n",
    "sns.distplot(rec_df['price'], ax = ax1)\n",
    "ax1.set_ylabel('Frequency')\n",
    "ax1.set_title('Car Price Distribution')\n",
    "#QQ-plot\n",
    "stats.probplot(rec_df['price'], plot=plt)\n",
    "plt.show()"
   ]
  },
  {
   "cell_type": "code",
   "execution_count": null,
   "metadata": {},
   "outputs": [],
   "source": [
    "pricey_log = np.log1p(rec_df['price'])\n",
    "#histogram of SalePrice to see the distribution after log transformation\n",
    "fig, (ax1, ax2) = plt.subplots(1,2,figsize=(14,4))\n",
    "sns.distplot(pricey_log, ax = ax1)\n",
    "(mu, sigma) = norm.fit(pricey_log)\n",
    "print( '\\n mu = {:.2f} and sigma = {:.2f}\\n'.format(mu, sigma))\n",
    "plt.legend(['Normal dist. ($\\mu=$ {:.2f} and $\\sigma=$ {:.2f} )'.format(mu, sigma)],\n",
    "            loc='best')\n",
    "ax1.set_ylabel('Frequency')\n",
    "ax1.set_title('Car Price Distribution')\n",
    "#QQ-plot\n",
    "stats.probplot(pricey_log, plot=plt)\n",
    "plt.show()"
   ]
  },
  {
   "cell_type": "code",
   "execution_count": null,
   "metadata": {},
   "outputs": [],
   "source": [
    "rec_df['price_log'] = np.log(rec_df['price'])\n",
    "rec_df['odometer_log'] = np.log(rec_df['odometer']+10)"
   ]
  },
  {
   "cell_type": "code",
   "execution_count": null,
   "metadata": {},
   "outputs": [],
   "source": [
    "#histogram of the car mileage to see the distribution \n",
    "fig, (ax1, ax2) = plt.subplots(1,2,figsize=(14,4))\n",
    "sns.distplot(rec_df['odometer'], ax = ax1)\n",
    "ax1.set_xlabel('Mileage')\n",
    "ax1.set_ylabel('Frequency')\n",
    "ax1.set_title('Car Mileage Distribution')\n",
    "#QQ-plot\n",
    "stats.probplot(rec_df['odometer'], plot=plt)\n",
    "plt.show()"
   ]
  },
  {
   "cell_type": "code",
   "execution_count": null,
   "metadata": {},
   "outputs": [],
   "source": [
    "#histogram of SalePrice to see the distribution after log transformation\n",
    "fig, (ax1, ax2) = plt.subplots(1,2,figsize=(14,4))\n",
    "sns.distplot(rec_df['odometer_log'], ax = ax1)\n",
    "(mu, sigma) = norm.fit(rec_df['odometer_log'])\n",
    "print( '\\n mu = {:.2f} and sigma = {:.2f}\\n'.format(mu, sigma))\n",
    "plt.legend(['Normal dist. ($\\mu=$ {:.2f} and $\\sigma=$ {:.2f} )'.format(mu, sigma)],\n",
    "            loc='best')\n",
    "ax1.set_xlabel('Mileage')\n",
    "ax1.set_ylabel('Frequency')\n",
    "ax1.set_title('Log Car Mileage Distribution')\n",
    "#QQ-plot\n",
    "stats.probplot(rec_df['odometer_log'], plot=plt)\n",
    "plt.show()"
   ]
  },
  {
   "cell_type": "code",
   "execution_count": null,
   "metadata": {},
   "outputs": [],
   "source": [
    "rec_df.dtypes"
   ]
  },
  {
   "cell_type": "code",
   "execution_count": null,
   "metadata": {},
   "outputs": [],
   "source": [
    "# Data Exploration"
   ]
  },
  {
   "cell_type": "code",
   "execution_count": null,
   "metadata": {},
   "outputs": [],
   "source": [
    "# How expensive are the cars? \n",
    "print('The average age of the cars is {:,.0f} years old.'.format(2020 - rec_df.year.mean()))\n",
    "print('The average mileage of the cars is {:,.0f} miles.'.format(rec_df.odometer.mean()))\n",
    "print('The cheapest car is for ${:,.0f} dollars and the most expensive is for ${:,.0f}.'.format(\n",
    "    rec_df.price.min(), rec_df.price.max()))\n",
    "print('The average car price is ${:,.0f}, while median is ${:,.0f}.'.format(\n",
    "    rec_df.price.mean(), rec_df.price.median()))\n",
    "print('-' * 30)\n",
    "rec_df.price.hist(bins=75, rwidth=.8, figsize=(14,4))\n",
    "plt.title('How expensive are the cars?')\n",
    "plt.show()"
   ]
  },
  {
   "cell_type": "code",
   "execution_count": null,
   "metadata": {},
   "outputs": [],
   "source": [
    "categori = ['object']\n",
    "categorical = rec_df.select_dtypes(include= categori)\n",
    "categorical= categorical.drop(columns = ['make','manufacturer'],axis =1)"
   ]
  },
  {
   "cell_type": "code",
   "execution_count": null,
   "metadata": {},
   "outputs": [],
   "source": [
    "fig, axes = plt.subplots(round(len(categorical.columns) / 4), 3, figsize=(20,15))\n",
    "\n",
    "for i, ax in enumerate(fig.axes):\n",
    "    if i < len(categorical.columns):\n",
    "        ax.set_xticklabels(ax.xaxis.get_majorticklabels(), rotation=45)\n",
    "        sns.countplot(x=categorical.columns[i], alpha=0.7, data=categorical, ax=ax,palette='Blues_d')\n",
    "\n",
    "fig.tight_layout()"
   ]
  },
  {
   "cell_type": "code",
   "execution_count": null,
   "metadata": {},
   "outputs": [],
   "source": [
    "fig = plt.figure(figsize= (15,5))\n",
    "plt.subplot(1,2,1)\n",
    "plt.title('model')\n",
    "rec_df['manufacturer'].value_counts().sort_values().nlargest(10).plot(kind = 'bar')\n",
    "plt.xticks(rotation =90)\n",
    "plt.subplot(1,2,2)\n",
    "plt.title('make')\n",
    "rec_df['make'].value_counts().sort_values().nlargest(10).plot(kind = 'bar')"
   ]
  },
  {
   "cell_type": "code",
   "execution_count": null,
   "metadata": {},
   "outputs": [],
   "source": [
    "rec_df.head()"
   ]
  },
  {
   "cell_type": "code",
   "execution_count": null,
   "metadata": {},
   "outputs": [],
   "source": [
    "# Box Plot for Categorical Features\n",
    "f = pd.melt(rec_df, id_vars=['price'], value_vars=sorted(categorical))\n",
    "g = sns.FacetGrid(f, col='variable', col_wrap=3, sharex=False, sharey=False, size=4)\n",
    "g = g.map(sns.boxplot, 'value', 'price')\n",
    "[plt.setp(ax.get_xticklabels(), rotation=90) for ax in g.axes.flat]\n",
    "g.fig.tight_layout()\n",
    "plt.show()"
   ]
  },
  {
   "cell_type": "code",
   "execution_count": null,
   "metadata": {},
   "outputs": [],
   "source": [
    "rec_df['price_log'] = np.log(rec_df['price'])\n",
    "rec_df['odometer_log'] = np.log(rec_df['odometer']+10)"
   ]
  },
  {
   "cell_type": "code",
   "execution_count": null,
   "metadata": {},
   "outputs": [],
   "source": [
    "rec_df.head()"
   ]
  },
  {
   "cell_type": "code",
   "execution_count": null,
   "metadata": {},
   "outputs": [],
   "source": [
    "fig = plt.figure(figsize= (15,4))\n",
    "plt.subplot(1,2,1)\n",
    "plt.title('price')\n",
    "rec_df['price_log'].hist()\n",
    "plt.subplot(1,2,2)\n",
    "plt.title('odometer')\n",
    "rec_df['odometer_log'].hist()\n",
    "plt.show()"
   ]
  },
  {
   "cell_type": "code",
   "execution_count": null,
   "metadata": {},
   "outputs": [],
   "source": [
    "rec_df.dtypes"
   ]
  },
  {
   "cell_type": "code",
   "execution_count": null,
   "metadata": {},
   "outputs": [],
   "source": [
    "df_final = pd.get_dummies(rec_df,drop_first=True)\n",
    "print(df_final.columns)"
   ]
  },
  {
   "cell_type": "code",
   "execution_count": null,
   "metadata": {},
   "outputs": [],
   "source": [
    "df_final.head()"
   ]
  },
  {
   "cell_type": "code",
   "execution_count": null,
   "metadata": {},
   "outputs": [],
   "source": [
    "df_final = df_final.drop(['price',''])"
   ]
  },
  {
   "cell_type": "code",
   "execution_count": null,
   "metadata": {},
   "outputs": [],
   "source": [
    "from sklearn.preprocessing import StandardScaler\n",
    "from sklearn.ensemble import RandomForestRegressor\n",
    "from sklearn.model_selection import train_test_split\n",
    "from sklearn.metrics import mean_absolute_error as mae\n",
    "#X_head = df_final.iloc[:, df_final.columns != 'price']\n",
    "X = df_final.drop(['price','price_log','odometer'], axis=1)\n",
    "y = df_final['price_log']\n",
    "X = StandardScaler().fit_transform(X)"
   ]
  },
  {
   "cell_type": "code",
   "execution_count": null,
   "metadata": {},
   "outputs": [],
   "source": [
    "X_train, X_test, y_train, y_test = train_test_split(X, y, test_size=.25, random_state=0)"
   ]
  },
  {
   "cell_type": "code",
   "execution_count": null,
   "metadata": {},
   "outputs": [],
   "source": [
    "rf_model = RandomForestRegressor(random_state=1)\n",
    "rf_model.fit(X_train,y_train)\n",
    "pred = rf_model.predict(X_test)"
   ]
  },
  {
   "cell_type": "code",
   "execution_count": null,
   "metadata": {},
   "outputs": [],
   "source": [
    "print(mae(y_test, pred))\n",
    "print(df_final['price'].mean())"
   ]
  },
  {
   "cell_type": "code",
   "execution_count": null,
   "metadata": {},
   "outputs": [],
   "source": [
    "rf_model.score(X_test,y_test)"
   ]
  },
  {
   "cell_type": "code",
   "execution_count": null,
   "metadata": {},
   "outputs": [],
   "source": []
  }
 ],
 "metadata": {
  "kernelspec": {
   "display_name": "Python 3",
   "language": "python",
   "name": "python3"
  },
  "language_info": {
   "codemirror_mode": {
    "name": "ipython",
    "version": 3
   },
   "file_extension": ".py",
   "mimetype": "text/x-python",
   "name": "python",
   "nbconvert_exporter": "python",
   "pygments_lexer": "ipython3",
   "version": "3.7.6"
  }
 },
 "nbformat": 4,
 "nbformat_minor": 4
}
